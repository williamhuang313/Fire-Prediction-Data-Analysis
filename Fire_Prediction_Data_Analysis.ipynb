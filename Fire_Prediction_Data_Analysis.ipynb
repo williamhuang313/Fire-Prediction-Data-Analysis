{
  "cells": [
    {
      "cell_type": "code",
      "execution_count": null,
      "id": "de2ff700-0307-43e2-912d-a0fb4989977c",
      "metadata": {
        "id": "de2ff700-0307-43e2-912d-a0fb4989977c"
      },
      "outputs": [],
      "source": [
        "import numpy as np\n",
        "import pandas as pd\n",
        "import geopandas as gpd\n",
        "from matplotlib import pyplot as plt\n",
        "\n",
        "from sklearn.model_selection import train_test_split\n",
        "\n",
        "from sklearn.ensemble import RandomForestClassifier\n",
        "from sklearn import metrics \n",
        "import seaborn as sns\n",
        "import matplotlib.pyplot as plt\n",
        "\n",
        "from sklearn.preprocessing import StandardScaler, MinMaxScaler, OneHotEncoder\n",
        "from sklearn.pipeline import Pipeline\n",
        "from sklearn.impute import SimpleImputer\n",
        "from sklearn.compose import ColumnTransformer\n",
        "from sklearn.svm import SVC\n",
        "from sklearn.pipeline import make_pipeline\n",
        "from sklearn.linear_model import LogisticRegression\n",
        "from sklearn.neighbors import KNeighborsClassifier"
      ]
    },
    {
      "cell_type": "markdown",
      "id": "4f441df5-7611-4ebd-bba1-2bcebe32dca5",
      "metadata": {
        "id": "4f441df5-7611-4ebd-bba1-2bcebe32dca5"
      },
      "source": [
        "### Accessing Datasets / Data Exploration"
      ]
    },
    {
      "cell_type": "code",
      "execution_count": null,
      "id": "a2fedbc4-21b8-4f08-ab66-8c8d9a41ed44",
      "metadata": {
        "id": "a2fedbc4-21b8-4f08-ab66-8c8d9a41ed44",
        "outputId": "3a502d8b-007f-4360-dbda-d146ef16d85e"
      },
      "outputs": [
        {
          "name": "stderr",
          "output_type": "stream",
          "text": [
            "Query complete after 0.00s: 100%|██████████| 1/1 [00:00<00:00, 876.37query/s] \n",
            "Downloading: 100%|██████████| 20772/20772 [00:15<00:00, 1350.82rows/s]\n"
          ]
        }
      ],
      "source": [
        "%%bigquery df_fire\n",
        "SELECT\n",
        "*\n",
        "FROM `data-401-326622.final_project.fires`"
      ]
    },
    {
      "cell_type": "code",
      "execution_count": null,
      "id": "1e0b371b-97d6-4ae5-a895-17dd7c158894",
      "metadata": {
        "id": "1e0b371b-97d6-4ae5-a895-17dd7c158894",
        "outputId": "a5d8b342-e0a5-4577-f4b2-36078bef8f5c"
      },
      "outputs": [
        {
          "data": {
            "text/plain": [
              "(20772, 19)"
            ]
          },
          "execution_count": 3,
          "metadata": {},
          "output_type": "execute_result"
        }
      ],
      "source": [
        "df_fire.shape"
      ]
    },
    {
      "cell_type": "code",
      "execution_count": null,
      "id": "a8c27dad-ddc9-4bcb-bcd5-a3caaaf9fb50",
      "metadata": {
        "id": "a8c27dad-ddc9-4bcb-bcd5-a3caaaf9fb50",
        "outputId": "e3f0e238-d94a-48b3-cdb7-b76c60aa952d"
      },
      "outputs": [
        {
          "name": "stderr",
          "output_type": "stream",
          "text": [
            "Query complete after 0.00s: 100%|██████████| 1/1 [00:00<00:00, 835.69query/s] \n",
            "Downloading: 100%|██████████| 7338672/7338672 [00:05<00:00, 1234994.05rows/s]\n"
          ]
        }
      ],
      "source": [
        "%%bigquery df_climate\n",
        "SELECT * FROM `data-401-326622.final_project.terraclimate_with_fire_distance`"
      ]
    },
    {
      "cell_type": "code",
      "execution_count": null,
      "id": "2fc86b3a-545b-48e5-ac38-a08fc3d18481",
      "metadata": {
        "id": "2fc86b3a-545b-48e5-ac38-a08fc3d18481",
        "outputId": "ce882c32-134f-4d4d-e970-ccf64131f763"
      },
      "outputs": [
        {
          "data": {
            "text/plain": [
              "(7338672, 19)"
            ]
          },
          "execution_count": 5,
          "metadata": {},
          "output_type": "execute_result"
        }
      ],
      "source": [
        "df_climate.shape"
      ]
    },
    {
      "cell_type": "code",
      "execution_count": null,
      "id": "4c062909-cfe6-4888-9ec6-18c04c28f74a",
      "metadata": {
        "id": "4c062909-cfe6-4888-9ec6-18c04c28f74a"
      },
      "outputs": [],
      "source": [
        "#creating new indicator variable based on fire_dist\n",
        "def fire_function(row):\n",
        "    if row[\"fire_dist\"] >= 5000 or np.isnan(row[\"fire_dist\"]):\n",
        "        val = 0\n",
        "    else:\n",
        "        val = 1\n",
        "    return val\n",
        "\n",
        "df_climate[\"fire\"] = df_climate.apply(fire_function, axis=1)\n",
        "\n",
        "df_climate = df_climate.drop(columns=[\"fire_dist\"])"
      ]
    },
    {
      "cell_type": "code",
      "execution_count": null,
      "id": "4c7a49eb-3dff-4dc0-b5e4-092fd70a4f59",
      "metadata": {
        "id": "4c7a49eb-3dff-4dc0-b5e4-092fd70a4f59",
        "outputId": "bcccaa71-7343-4841-b734-4ef4f38e67a4"
      },
      "outputs": [
        {
          "name": "stderr",
          "output_type": "stream",
          "text": [
            "/opt/conda/lib/python3.7/site-packages/seaborn/_decorators.py:43: FutureWarning: Pass the following variables as keyword args: x, y. From version 0.12, the only valid positional argument will be `data`, and passing other arguments without an explicit keyword will result in an error or misinterpretation.\n",
            "  FutureWarning\n"
          ]
        },
        {
          "data": {
            "image/png": "[encoded data removed]",
            "text/plain": [
              "<Figure size 720x360 with 1 Axes>"
            ]
          },
          "metadata": {
            "needs_background": "light"
          },
          "output_type": "display_data"
        }
      ],
      "source": [
        "#Data Visualization 1\n",
        "fire_count = df_climate[\"fire\"].value_counts()\n",
        "\n",
        "plt.figure(figsize=(10,5))\n",
        "sns.barplot(fire_count.index, fire_count.values, alpha=0.8)\n",
        "plt.title('Fire Indicator Count')\n",
        "plt.ylabel('Count (in millions)', fontsize=12)\n",
        "plt.xlabel('Fire Indicator', fontsize=12)\n",
        "plt.show()"
      ]
    },
    {
      "cell_type": "code",
      "execution_count": null,
      "id": "2f981429-d6c2-4aa9-ab1a-581e315c94ce",
      "metadata": {
        "id": "2f981429-d6c2-4aa9-ab1a-581e315c94ce",
        "outputId": "2ac534a5-05d1-4a14-b49b-60cdb36c7546"
      },
      "outputs": [
        {
          "data": {
            "text/plain": [
              "0    7299294\n",
              "1      39378\n",
              "Name: fire, dtype: int64"
            ]
          },
          "execution_count": 8,
          "metadata": {},
          "output_type": "execute_result"
        }
      ],
      "source": [
        "df_climate[\"fire\"].value_counts()"
      ]
    },
    {
      "cell_type": "code",
      "execution_count": null,
      "id": "9f28018d-8eb8-40f6-b965-4aac12f5ec33",
      "metadata": {
        "id": "9f28018d-8eb8-40f6-b965-4aac12f5ec33"
      },
      "outputs": [],
      "source": [
        "#Data Visualization 2"
      ]
    },
    {
      "cell_type": "code",
      "execution_count": null,
      "id": "5df68519-b234-4289-a6fb-7c474c0c0e78",
      "metadata": {
        "id": "5df68519-b234-4289-a6fb-7c474c0c0e78",
        "outputId": "492d9a2d-5528-4586-9a20-3987497bc885"
      },
      "outputs": [
        {
          "name": "stderr",
          "output_type": "stream",
          "text": [
            "Query complete after 0.00s: 100%|██████████| 1/1 [00:00<00:00, 1040.51query/s]\n",
            "Downloading: 100%|██████████| 12/12 [00:01<00:00,  9.53rows/s]\n"
          ]
        }
      ],
      "source": [
        "%%bigquery avg_fire_month\n",
        "SELECT\n",
        "    AVG(CAST(fire_dist as FLOAT64)) as avg_fire_dist,\n",
        "    month\n",
        "FROM `data-401-326622.final_project.terraclimate_with_fire_distance`\n",
        "GROUP BY month"
      ]
    },
    {
      "cell_type": "code",
      "execution_count": null,
      "id": "d61e38f0-fcd9-4012-a283-e77fb5d9afd4",
      "metadata": {
        "id": "d61e38f0-fcd9-4012-a283-e77fb5d9afd4",
        "outputId": "8f1572e2-9d68-48a0-ce41-19f14f63b754"
      },
      "outputs": [
        {
          "data": {
            "image/png": "[encoded data removed]",
            "text/plain": [
              "<Figure size 720x720 with 1 Axes>"
            ]
          },
          "metadata": {
            "needs_background": "light"
          },
          "output_type": "display_data"
        }
      ],
      "source": [
        "fig,ax = plt.subplots(figsize=(10,10))\n",
        "sns.scatterplot(x='month',y='avg_fire_dist',data=avg_fire_month,ax=ax,legend=False)\n",
        "ax.set_xlabel('Month')\n",
        "ax.set_ylabel('Average Fire Distance')\n",
        "ax.set_title('Average Fire Distance by Month')\n",
        "fig.show()"
      ]
    },
    {
      "cell_type": "code",
      "execution_count": null,
      "id": "e28b3fe2-d01c-4d75-b956-1cdc35e2ea95",
      "metadata": {
        "id": "e28b3fe2-d01c-4d75-b956-1cdc35e2ea95"
      },
      "outputs": [],
      "source": [
        "del avg_fire_month"
      ]
    },
    {
      "cell_type": "code",
      "execution_count": null,
      "id": "796ae645-94a9-4837-b0d8-933ef334de18",
      "metadata": {
        "id": "796ae645-94a9-4837-b0d8-933ef334de18"
      },
      "outputs": [],
      "source": [
        "#!wget https://data.ca.gov/dataset/e212e397-1277-4df3-8c22-40721b095f33/resource/b0007416-a325-4777-9295-368ea6b710e6/download/ca-county-boundaries.zip -O cali_data.zip\n",
        "#!unzip cali_data.zip\n",
        "#!rm cali_data.zip"
      ]
    },
    {
      "cell_type": "code",
      "execution_count": null,
      "id": "cae91044-8a2f-43e2-ba0c-e757d8c18e29",
      "metadata": {
        "id": "cae91044-8a2f-43e2-ba0c-e757d8c18e29",
        "outputId": "a59f5d60-44b6-4e2c-f5f8-2351a8af7389"
      },
      "outputs": [
        {
          "data": {
            "text/plain": [
              "Text(493.45748678457437, 0.5, 'Latitude [deg]')"
            ]
          },
          "execution_count": 13,
          "metadata": {},
          "output_type": "execute_result"
        },
        {
          "data": {
            "image/png": "[encoded data removed]",
            "text/plain": [
              "<Figure size 1440x720 with 1 Axes>"
            ]
          },
          "metadata": {
            "needs_background": "light"
          },
          "output_type": "display_data"
        }
      ],
      "source": [
        "#Data Visualization 3\n",
        "df_boundaries = gpd.read_file(\"CA_Counties_TIGER2016.shx\")\n",
        "df_boundaries = df_boundaries.to_crs(epsg = 4326)\n",
        "df_fire = gpd.GeoDataFrame(df_fire,geometry=gpd.GeoSeries.from_wkt(df_fire.geom),crs='EPSG:4326')\n",
        "\n",
        "fig, ax = plt.subplots(figsize=(20, 10))\n",
        "ax = df_boundaries.plot(ax=ax, color = \"green\")\n",
        "df_fire.plot(ax=ax, color = \"red\")\n",
        "ax.set_title(\"Historical Fires in California\")\n",
        "ax.set_xlabel('Longitude [deg]')\n",
        "ax.set_ylabel('Latitude [deg]')"
      ]
    },
    {
      "cell_type": "code",
      "execution_count": null,
      "id": "17cb0e1f-ec67-482f-bd53-ff165edff633",
      "metadata": {
        "id": "17cb0e1f-ec67-482f-bd53-ff165edff633"
      },
      "outputs": [],
      "source": [
        "del df_boundaries\n",
        "del df_fire"
      ]
    },
    {
      "cell_type": "code",
      "execution_count": null,
      "id": "f597e594-b7ea-46d4-ba6c-4c77c7027a98",
      "metadata": {
        "id": "f597e594-b7ea-46d4-ba6c-4c77c7027a98",
        "outputId": "13b69239-d034-45d5-9494-62e4cb8eff3e"
      },
      "outputs": [
        {
          "name": "stderr",
          "output_type": "stream",
          "text": [
            "Query complete after 0.00s: 100%|██████████| 1/1 [00:00<00:00, 694.42query/s] \n",
            "Downloading: 100%|██████████| 58/58 [00:02<00:00, 28.22rows/s]\n"
          ]
        }
      ],
      "source": [
        "%%bigquery df_boundaries\n",
        "SELECT\n",
        "    county_name,\n",
        "    county_geom\n",
        "FROM `bigquery-public-data.geo_us_boundaries.counties`\n",
        "WHERE state_fips_code = \"06\""
      ]
    },
    {
      "cell_type": "code",
      "execution_count": null,
      "id": "26b736dc-1a85-4105-a963-4afe246415bd",
      "metadata": {
        "id": "26b736dc-1a85-4105-a963-4afe246415bd",
        "outputId": "9b11b089-01d1-4849-d820-491f009553b7"
      },
      "outputs": [
        {
          "data": {
            "text/html": [
              "<div>\n",
              "<style scoped>\n",
              "    .dataframe tbody tr th:only-of-type {\n",
              "        vertical-align: middle;\n",
              "    }\n",
              "\n",
              "    .dataframe tbody tr th {\n",
              "        vertical-align: top;\n",
              "    }\n",
              "\n",
              "    .dataframe thead th {\n",
              "        text-align: right;\n",
              "    }\n",
              "</style>\n",
              "<table border=\"1\" class=\"dataframe\">\n",
              "  <thead>\n",
              "    <tr style=\"text-align: right;\">\n",
              "      <th></th>\n",
              "      <th>county_name</th>\n",
              "      <th>county_geom</th>\n",
              "    </tr>\n",
              "  </thead>\n",
              "  <tbody>\n",
              "    <tr>\n",
              "      <th>0</th>\n",
              "      <td>Alpine</td>\n",
              "      <td>POLYGON((-120.073331 38.70109, -120.073324 38....</td>\n",
              "    </tr>\n",
              "    <tr>\n",
              "      <th>1</th>\n",
              "      <td>Mariposa</td>\n",
              "      <td>POLYGON((-120.321526 37.5244, -120.321485 37.5...</td>\n",
              "    </tr>\n",
              "    <tr>\n",
              "      <th>2</th>\n",
              "      <td>Trinity</td>\n",
              "      <td>POLYGON((-123.543956 40.732938, -123.544172 40...</td>\n",
              "    </tr>\n",
              "    <tr>\n",
              "      <th>3</th>\n",
              "      <td>Amador</td>\n",
              "      <td>POLYGON((-121.027291 38.481365, -121.027291 38...</td>\n",
              "    </tr>\n",
              "    <tr>\n",
              "      <th>4</th>\n",
              "      <td>Inyo</td>\n",
              "      <td>POLYGON((-118.337579 36.654801, -118.336827 36...</td>\n",
              "    </tr>\n",
              "  </tbody>\n",
              "</table>\n",
              "</div>"
            ],
            "text/plain": [
              "  county_name                                        county_geom\n",
              "0      Alpine  POLYGON((-120.073331 38.70109, -120.073324 38....\n",
              "1    Mariposa  POLYGON((-120.321526 37.5244, -120.321485 37.5...\n",
              "2     Trinity  POLYGON((-123.543956 40.732938, -123.544172 40...\n",
              "3      Amador  POLYGON((-121.027291 38.481365, -121.027291 38...\n",
              "4        Inyo  POLYGON((-118.337579 36.654801, -118.336827 36..."
            ]
          },
          "execution_count": 16,
          "metadata": {},
          "output_type": "execute_result"
        }
      ],
      "source": [
        "df_boundaries.head()"
      ]
    },
    {
      "cell_type": "markdown",
      "id": "5fc6a6e0-a49e-449f-9dae-2c461dcf3ceb",
      "metadata": {
        "id": "5fc6a6e0-a49e-449f-9dae-2c461dcf3ceb"
      },
      "source": [
        "### Data Preparation"
      ]
    },
    {
      "cell_type": "code",
      "execution_count": null,
      "id": "7132c521-ab78-45ed-ae0a-73bbe348fd4d",
      "metadata": {
        "id": "7132c521-ab78-45ed-ae0a-73bbe348fd4d"
      },
      "outputs": [],
      "source": [
        "df_climate = gpd.GeoDataFrame(df_climate,geometry=gpd.GeoSeries.from_xy(df_climate.lon,df_climate.lat),crs='EPSG:4326')\n",
        "df_boundaries = gpd.GeoDataFrame(df_boundaries,geometry=gpd.GeoSeries.from_wkt(df_boundaries.county_geom),crs='EPSG:4326')"
      ]
    },
    {
      "cell_type": "code",
      "execution_count": null,
      "id": "166e9a32-27f6-4312-947c-f2f873ec0984",
      "metadata": {
        "id": "166e9a32-27f6-4312-947c-f2f873ec0984"
      },
      "outputs": [],
      "source": [
        "df_final = gpd.sjoin(df_climate, df_boundaries)\n",
        "\n",
        "del df_boundaries\n",
        "\n",
        "df_final = df_final.drop(columns=['lat', 'lon', 'geometry', 'index_right', 'county_geom'])"
      ]
    },
    {
      "cell_type": "code",
      "execution_count": null,
      "id": "1fdad9f0-4269-42e1-a37e-d59717881549",
      "metadata": {
        "id": "1fdad9f0-4269-42e1-a37e-d59717881549",
        "outputId": "702126a7-f19b-4529-a3e0-05406437eee0"
      },
      "outputs": [
        {
          "data": {
            "text/plain": [
              "0    3234741\n",
              "1      38991\n",
              "Name: fire, dtype: int64"
            ]
          },
          "execution_count": 19,
          "metadata": {},
          "output_type": "execute_result"
        }
      ],
      "source": [
        "#balancing data\n",
        "df_final[\"fire\"].value_counts()"
      ]
    },
    {
      "cell_type": "code",
      "execution_count": null,
      "id": "561d7d13-a451-4290-a6af-74a5d99e21e8",
      "metadata": {
        "id": "561d7d13-a451-4290-a6af-74a5d99e21e8",
        "outputId": "f4572e5a-301c-48e6-f9eb-1743b7684147"
      },
      "outputs": [
        {
          "data": {
            "text/plain": [
              "82.96122182042009"
            ]
          },
          "execution_count": 20,
          "metadata": {},
          "output_type": "execute_result"
        }
      ],
      "source": [
        "3234741 / 38991"
      ]
    },
    {
      "cell_type": "code",
      "execution_count": null,
      "id": "2e3de8ce-ead8-40f2-b310-2bbb661d521c",
      "metadata": {
        "id": "2e3de8ce-ead8-40f2-b310-2bbb661d521c",
        "outputId": "6afe73c2-4c12-4aa7-9d1f-829622d9ab67"
      },
      "outputs": [
        {
          "data": {
            "text/plain": [
              "0    1637315\n",
              "1    1636417\n",
              "Name: fire, dtype: int64"
            ]
          },
          "execution_count": 21,
          "metadata": {},
          "output_type": "execute_result"
        }
      ],
      "source": [
        "def weight_function(row):\n",
        "    if row[\"fire\"] == 0:\n",
        "        val = 1\n",
        "    else:\n",
        "        val = 83\n",
        "    return val\n",
        "\n",
        "df_final[\"Weights\"] = df_final.apply(weight_function, axis=1)\n",
        "\n",
        "df_final2 = df_final.sample(n=len(df_final), weights='Weights', random_state=12, replace = True)\n",
        "\n",
        "df_final2 = df_final2.drop(columns = \"Weights\")\n",
        "\n",
        "df_final2[\"fire\"].value_counts()"
      ]
    },
    {
      "cell_type": "code",
      "execution_count": null,
      "id": "3bcdb8b7-f2f9-4eec-8b63-3869c0448e2a",
      "metadata": {
        "id": "3bcdb8b7-f2f9-4eec-8b63-3869c0448e2a"
      },
      "outputs": [],
      "source": [
        "del df_final"
      ]
    },
    {
      "cell_type": "code",
      "execution_count": null,
      "id": "cd4ced60-e0cd-4655-abe0-cb6c09287558",
      "metadata": {
        "id": "cd4ced60-e0cd-4655-abe0-cb6c09287558"
      },
      "outputs": [],
      "source": [
        "y = df_final2[\"fire\"]\n",
        "\n",
        "df_final2 = df_final2.drop(columns = [\"fire\"])"
      ]
    },
    {
      "cell_type": "code",
      "execution_count": null,
      "id": "05e8557b-34b5-44d9-ab29-1637e83e636e",
      "metadata": {
        "id": "05e8557b-34b5-44d9-ab29-1637e83e636e"
      },
      "outputs": [],
      "source": [
        "categorical_features = [\"county_name\", \"month\", \"year\"]\n",
        "numeric_features = [col for col in df_final2.columns if col not in categorical_features]"
      ]
    },
    {
      "cell_type": "code",
      "execution_count": null,
      "id": "69925fcc-ec64-45f7-8734-e7fc702ae47f",
      "metadata": {
        "id": "69925fcc-ec64-45f7-8734-e7fc702ae47f"
      },
      "outputs": [],
      "source": [
        "#One Hot Encoding\n",
        "numeric_transformer = Pipeline(\n",
        "    steps=[(\"imputer\", SimpleImputer(strategy=\"median\")), (\"scaler\", StandardScaler())]\n",
        ")\n",
        "\n",
        "#Use Onehot encoding for all the categorical variables\n",
        "categorical_transformer = OneHotEncoder(handle_unknown=\"ignore\")\n",
        "\n",
        "preprocessor = ColumnTransformer(transformers=[(\"numeric\", numeric_transformer, numeric_features),\n",
        "                                               (\"categorical\", categorical_transformer, categorical_features)])"
      ]
    },
    {
      "cell_type": "code",
      "execution_count": null,
      "id": "442bb0dc-3602-4eb6-afcd-5581025676ec",
      "metadata": {
        "id": "442bb0dc-3602-4eb6-afcd-5581025676ec"
      },
      "outputs": [],
      "source": [
        "transformed = preprocessor.fit_transform(df_final2)"
      ]
    },
    {
      "cell_type": "code",
      "execution_count": null,
      "id": "8d554f46-9921-4d30-8d48-2e69979ef41d",
      "metadata": {
        "id": "8d554f46-9921-4d30-8d48-2e69979ef41d",
        "outputId": "80f5766d-3aa4-450f-b16a-54057b023c35"
      },
      "outputs": [
        {
          "data": {
            "text/html": [
              "<div>\n",
              "<style scoped>\n",
              "    .dataframe tbody tr th:only-of-type {\n",
              "        vertical-align: middle;\n",
              "    }\n",
              "\n",
              "    .dataframe tbody tr th {\n",
              "        vertical-align: top;\n",
              "    }\n",
              "\n",
              "    .dataframe thead th {\n",
              "        text-align: right;\n",
              "    }\n",
              "</style>\n",
              "<table border=\"1\" class=\"dataframe\">\n",
              "  <thead>\n",
              "    <tr style=\"text-align: right;\">\n",
              "      <th></th>\n",
              "      <th>aet</th>\n",
              "      <th>def</th>\n",
              "      <th>pet</th>\n",
              "      <th>ppt</th>\n",
              "      <th>q</th>\n",
              "      <th>soil</th>\n",
              "      <th>srad</th>\n",
              "      <th>swe</th>\n",
              "      <th>tmax</th>\n",
              "      <th>tmin</th>\n",
              "      <th>...</th>\n",
              "      <th>year_2011</th>\n",
              "      <th>year_2012</th>\n",
              "      <th>year_2013</th>\n",
              "      <th>year_2014</th>\n",
              "      <th>year_2015</th>\n",
              "      <th>year_2016</th>\n",
              "      <th>year_2017</th>\n",
              "      <th>year_2018</th>\n",
              "      <th>year_2019</th>\n",
              "      <th>year_2020</th>\n",
              "    </tr>\n",
              "  </thead>\n",
              "  <tbody>\n",
              "    <tr>\n",
              "      <th>0</th>\n",
              "      <td>0.073898</td>\n",
              "      <td>-0.120050</td>\n",
              "      <td>-0.155823</td>\n",
              "      <td>0.112699</td>\n",
              "      <td>0.1127</td>\n",
              "      <td>-0.013479</td>\n",
              "      <td>1.635816</td>\n",
              "      <td>0.1127</td>\n",
              "      <td>-0.142133</td>\n",
              "      <td>-0.024519</td>\n",
              "      <td>...</td>\n",
              "      <td>0.0</td>\n",
              "      <td>0.0</td>\n",
              "      <td>0.0</td>\n",
              "      <td>0.0</td>\n",
              "      <td>0.0</td>\n",
              "      <td>0.0</td>\n",
              "      <td>0.0</td>\n",
              "      <td>0.0</td>\n",
              "      <td>0.0</td>\n",
              "      <td>1.0</td>\n",
              "    </tr>\n",
              "    <tr>\n",
              "      <th>1</th>\n",
              "      <td>0.123548</td>\n",
              "      <td>-0.009865</td>\n",
              "      <td>0.001672</td>\n",
              "      <td>0.112700</td>\n",
              "      <td>0.1127</td>\n",
              "      <td>-0.017177</td>\n",
              "      <td>0.708299</td>\n",
              "      <td>0.1127</td>\n",
              "      <td>-0.107161</td>\n",
              "      <td>-0.053452</td>\n",
              "      <td>...</td>\n",
              "      <td>0.0</td>\n",
              "      <td>0.0</td>\n",
              "      <td>0.0</td>\n",
              "      <td>0.0</td>\n",
              "      <td>0.0</td>\n",
              "      <td>1.0</td>\n",
              "      <td>0.0</td>\n",
              "      <td>0.0</td>\n",
              "      <td>0.0</td>\n",
              "      <td>0.0</td>\n",
              "    </tr>\n",
              "    <tr>\n",
              "      <th>2</th>\n",
              "      <td>0.046496</td>\n",
              "      <td>0.191275</td>\n",
              "      <td>0.128809</td>\n",
              "      <td>0.112699</td>\n",
              "      <td>0.1127</td>\n",
              "      <td>0.013997</td>\n",
              "      <td>-0.551377</td>\n",
              "      <td>0.1127</td>\n",
              "      <td>0.128652</td>\n",
              "      <td>0.293483</td>\n",
              "      <td>...</td>\n",
              "      <td>0.0</td>\n",
              "      <td>0.0</td>\n",
              "      <td>0.0</td>\n",
              "      <td>0.0</td>\n",
              "      <td>0.0</td>\n",
              "      <td>0.0</td>\n",
              "      <td>0.0</td>\n",
              "      <td>0.0</td>\n",
              "      <td>0.0</td>\n",
              "      <td>0.0</td>\n",
              "    </tr>\n",
              "    <tr>\n",
              "      <th>3</th>\n",
              "      <td>0.069557</td>\n",
              "      <td>0.198812</td>\n",
              "      <td>0.158388</td>\n",
              "      <td>0.112699</td>\n",
              "      <td>0.1127</td>\n",
              "      <td>-0.000533</td>\n",
              "      <td>-0.118865</td>\n",
              "      <td>0.1127</td>\n",
              "      <td>0.115662</td>\n",
              "      <td>0.175120</td>\n",
              "      <td>...</td>\n",
              "      <td>0.0</td>\n",
              "      <td>1.0</td>\n",
              "      <td>0.0</td>\n",
              "      <td>0.0</td>\n",
              "      <td>0.0</td>\n",
              "      <td>0.0</td>\n",
              "      <td>0.0</td>\n",
              "      <td>0.0</td>\n",
              "      <td>0.0</td>\n",
              "      <td>0.0</td>\n",
              "    </tr>\n",
              "    <tr>\n",
              "      <th>4</th>\n",
              "      <td>0.138469</td>\n",
              "      <td>-0.137202</td>\n",
              "      <td>-0.111195</td>\n",
              "      <td>0.112700</td>\n",
              "      <td>0.1127</td>\n",
              "      <td>0.033019</td>\n",
              "      <td>1.416374</td>\n",
              "      <td>0.1127</td>\n",
              "      <td>-0.102165</td>\n",
              "      <td>-0.032410</td>\n",
              "      <td>...</td>\n",
              "      <td>0.0</td>\n",
              "      <td>0.0</td>\n",
              "      <td>0.0</td>\n",
              "      <td>0.0</td>\n",
              "      <td>0.0</td>\n",
              "      <td>0.0</td>\n",
              "      <td>0.0</td>\n",
              "      <td>0.0</td>\n",
              "      <td>0.0</td>\n",
              "      <td>1.0</td>\n",
              "    </tr>\n",
              "  </tbody>\n",
              "</table>\n",
              "<p>5 rows × 95 columns</p>\n",
              "</div>"
            ],
            "text/plain": [
              "        aet       def       pet       ppt       q      soil      srad     swe  \\\n",
              "0  0.073898 -0.120050 -0.155823  0.112699  0.1127 -0.013479  1.635816  0.1127   \n",
              "1  0.123548 -0.009865  0.001672  0.112700  0.1127 -0.017177  0.708299  0.1127   \n",
              "2  0.046496  0.191275  0.128809  0.112699  0.1127  0.013997 -0.551377  0.1127   \n",
              "3  0.069557  0.198812  0.158388  0.112699  0.1127 -0.000533 -0.118865  0.1127   \n",
              "4  0.138469 -0.137202 -0.111195  0.112700  0.1127  0.033019  1.416374  0.1127   \n",
              "\n",
              "       tmax      tmin  ...  year_2011  year_2012  year_2013  year_2014  \\\n",
              "0 -0.142133 -0.024519  ...        0.0        0.0        0.0        0.0   \n",
              "1 -0.107161 -0.053452  ...        0.0        0.0        0.0        0.0   \n",
              "2  0.128652  0.293483  ...        0.0        0.0        0.0        0.0   \n",
              "3  0.115662  0.175120  ...        0.0        1.0        0.0        0.0   \n",
              "4 -0.102165 -0.032410  ...        0.0        0.0        0.0        0.0   \n",
              "\n",
              "   year_2015  year_2016  year_2017  year_2018  year_2019  year_2020  \n",
              "0        0.0        0.0        0.0        0.0        0.0        1.0  \n",
              "1        0.0        1.0        0.0        0.0        0.0        0.0  \n",
              "2        0.0        0.0        0.0        0.0        0.0        0.0  \n",
              "3        0.0        0.0        0.0        0.0        0.0        0.0  \n",
              "4        0.0        0.0        0.0        0.0        0.0        1.0  \n",
              "\n",
              "[5 rows x 95 columns]"
            ]
          },
          "execution_count": 26,
          "metadata": {},
          "output_type": "execute_result"
        }
      ],
      "source": [
        "new_categorical = preprocessor.transformers_[1][1].get_feature_names_out()\n",
        "\n",
        "#Create a new dataframe with the all the transformed column names\n",
        "X = pd.DataFrame.sparse.from_spmatrix(transformed, columns=numeric_features + list(new_categorical))\n",
        "\n",
        "\n",
        "X.head()"
      ]
    },
    {
      "cell_type": "markdown",
      "id": "83d4bc11-258d-43cc-81e2-a4f9f5551660",
      "metadata": {
        "id": "83d4bc11-258d-43cc-81e2-a4f9f5551660"
      },
      "source": [
        "### Data Modeling"
      ]
    },
    {
      "cell_type": "code",
      "execution_count": null,
      "id": "e23c8bac-f678-4be0-a26e-80294c30222f",
      "metadata": {
        "id": "e23c8bac-f678-4be0-a26e-80294c30222f"
      },
      "outputs": [],
      "source": [
        "X_train, X_test, y_train, y_test = train_test_split(X, y, test_size = 0.30)"
      ]
    },
    {
      "cell_type": "code",
      "execution_count": null,
      "id": "78770775-39ef-4dcb-957b-bdaeb3d3dba4",
      "metadata": {
        "id": "78770775-39ef-4dcb-957b-bdaeb3d3dba4"
      },
      "outputs": [],
      "source": [
        "clf = LogisticRegression(random_state=0, max_iter=1000)\n",
        "clf.fit(X, y)\n",
        "y_pred = clf.predict(X_test)"
      ]
    },
    {
      "cell_type": "code",
      "execution_count": null,
      "id": "ce7212d4-7fad-4ad4-bc83-4eced90832dd",
      "metadata": {
        "id": "ce7212d4-7fad-4ad4-bc83-4eced90832dd"
      },
      "outputs": [],
      "source": [
        "accuracy_lr = metrics.accuracy_score(y_test, y_pred)\n",
        "f1_lr = metrics.f1_score(y_test, y_pred)"
      ]
    },
    {
      "cell_type": "code",
      "execution_count": null,
      "id": "1c7cee2a-91cd-4756-9f43-c639c79bf950",
      "metadata": {
        "id": "1c7cee2a-91cd-4756-9f43-c639c79bf950",
        "outputId": "a9ced891-8442-4b12-f8c3-29189d505188"
      },
      "outputs": [
        {
          "data": {
            "text/plain": [
              "(array([-0.73477404]),\n",
              " array([[ 3.34524561e+00,  4.23804688e+00, -1.71518474e+00,\n",
              "          9.66954040e+00,  9.66051089e+00, -4.38971088e-01,\n",
              "          3.11044121e-01,  9.65911168e+00,  4.80191338e+00,\n",
              "         -4.23230307e+00, -4.74186017e+00, -2.51953217e+00,\n",
              "         -2.29857409e+01, -4.50969455e+00, -3.05209931e-01,\n",
              "         -1.09017351e+00, -1.74597472e-01,  1.01709917e+00,\n",
              "          4.41715313e-01, -3.36534531e-01, -6.10694928e-01,\n",
              "          5.04477552e-01,  2.48580703e-01,  2.30143710e-01,\n",
              "         -1.33355561e-01,  9.38674406e-02, -2.22708977e+00,\n",
              "         -2.26788760e+00,  2.21833744e-01, -1.27756984e+00,\n",
              "          6.28661808e-01, -8.43565090e-01,  1.26388360e+00,\n",
              "          1.50155064e-01,  5.78565707e-01,  1.26918135e+00,\n",
              "         -3.60165150e-02, -1.12130705e+00, -6.41027766e-01,\n",
              "         -1.11830529e+00,  2.56439096e-01,  9.83146821e-01,\n",
              "          7.17194149e-02,  1.38178498e+00,  9.88083316e-01,\n",
              "          1.87709442e-01,  1.65664661e-03, -7.17573972e-01,\n",
              "         -7.20456494e-01, -1.49366479e+00,  1.68661555e-01,\n",
              "          3.66053812e-01, -1.04238659e+00,  1.62910206e-01,\n",
              "         -3.82940698e-01,  5.71357683e-01, -3.94839417e-01,\n",
              "         -1.34835332e-01,  2.12639314e-01, -1.11993620e+00,\n",
              "          4.79603990e-01, -1.93906802e-01,  4.78870601e-01,\n",
              "         -2.46561358e-01, -1.90622680e-01,  4.36064153e-01,\n",
              "          4.35802691e-01,  5.05220593e-01,  7.50088218e-01,\n",
              "          1.75269666e+00, -1.51962780e-01,  1.48728545e+00,\n",
              "         -1.75103029e+00, -2.03380785e+00, -1.84299754e+00,\n",
              "         -1.17307442e+00,  6.28527541e-02,  1.11891953e+00,\n",
              "          1.75908019e+00,  1.85912570e+00,  1.49333514e+00,\n",
              "          6.63623437e-01,  8.58666256e-02, -8.88955426e-01,\n",
              "         -7.51884885e-01, -1.51810184e-01, -2.16758279e-01,\n",
              "         -4.31103329e-01, -8.87622835e-01, -3.68924590e-01,\n",
              "         -5.74945831e-02,  7.60190591e-01,  2.64003497e-01,\n",
              "          2.30329949e-01,  9.64012487e-01]]))"
            ]
          },
          "execution_count": 65,
          "metadata": {},
          "output_type": "execute_result"
        }
      ],
      "source": [
        "#Logistic Regression\n",
        "clf.intercept_, clf.coef_"
      ]
    },
    {
      "cell_type": "code",
      "execution_count": null,
      "id": "0d3cec94-fffc-4fc4-8dc7-093bb1768851",
      "metadata": {
        "id": "0d3cec94-fffc-4fc4-8dc7-093bb1768851",
        "outputId": "1cf41572-1071-4bdc-ac59-4ff39c1dd529"
      },
      "outputs": [
        {
          "data": {
            "text/html": [
              "<div>\n",
              "<style scoped>\n",
              "    .dataframe tbody tr th:only-of-type {\n",
              "        vertical-align: middle;\n",
              "    }\n",
              "\n",
              "    .dataframe tbody tr th {\n",
              "        vertical-align: top;\n",
              "    }\n",
              "\n",
              "    .dataframe thead th {\n",
              "        text-align: right;\n",
              "    }\n",
              "</style>\n",
              "<table border=\"1\" class=\"dataframe\">\n",
              "  <thead>\n",
              "    <tr style=\"text-align: right;\">\n",
              "      <th></th>\n",
              "      <th>variable</th>\n",
              "      <th>coefficient</th>\n",
              "    </tr>\n",
              "  </thead>\n",
              "  <tbody>\n",
              "    <tr>\n",
              "      <th>12</th>\n",
              "      <td>vpd</td>\n",
              "      <td>-22.985741</td>\n",
              "    </tr>\n",
              "    <tr>\n",
              "      <th>3</th>\n",
              "      <td>ppt</td>\n",
              "      <td>9.669540</td>\n",
              "    </tr>\n",
              "    <tr>\n",
              "      <th>4</th>\n",
              "      <td>q</td>\n",
              "      <td>9.660511</td>\n",
              "    </tr>\n",
              "    <tr>\n",
              "      <th>7</th>\n",
              "      <td>swe</td>\n",
              "      <td>9.659112</td>\n",
              "    </tr>\n",
              "    <tr>\n",
              "      <th>8</th>\n",
              "      <td>tmax</td>\n",
              "      <td>4.801913</td>\n",
              "    </tr>\n",
              "    <tr>\n",
              "      <th>10</th>\n",
              "      <td>vap</td>\n",
              "      <td>-4.741860</td>\n",
              "    </tr>\n",
              "    <tr>\n",
              "      <th>13</th>\n",
              "      <td>PDSI</td>\n",
              "      <td>-4.509695</td>\n",
              "    </tr>\n",
              "    <tr>\n",
              "      <th>1</th>\n",
              "      <td>def</td>\n",
              "      <td>4.238047</td>\n",
              "    </tr>\n",
              "    <tr>\n",
              "      <th>9</th>\n",
              "      <td>tmin</td>\n",
              "      <td>-4.232303</td>\n",
              "    </tr>\n",
              "    <tr>\n",
              "      <th>0</th>\n",
              "      <td>aet</td>\n",
              "      <td>3.345246</td>\n",
              "    </tr>\n",
              "  </tbody>\n",
              "</table>\n",
              "</div>"
            ],
            "text/plain": [
              "   variable  coefficient\n",
              "12      vpd   -22.985741\n",
              "3       ppt     9.669540\n",
              "4         q     9.660511\n",
              "7       swe     9.659112\n",
              "8      tmax     4.801913\n",
              "10      vap    -4.741860\n",
              "13     PDSI    -4.509695\n",
              "1       def     4.238047\n",
              "9      tmin    -4.232303\n",
              "0       aet     3.345246"
            ]
          },
          "execution_count": 84,
          "metadata": {},
          "output_type": "execute_result"
        }
      ],
      "source": [
        "table = pd.DataFrame({'variable': X.columns, 'coefficient': clf.coef_.flatten()})\n",
        "table.reindex(table.coefficient.abs().sort_values(ascending=False).index).head(10)"
      ]
    },
    {
      "cell_type": "code",
      "execution_count": null,
      "id": "0494b93b-d049-4646-b9f2-6a1004a0e15c",
      "metadata": {
        "id": "0494b93b-d049-4646-b9f2-6a1004a0e15c"
      },
      "outputs": [],
      "source": [
        "rfc = RandomForestClassifier(n_estimators = 10) \n",
        "rfc.fit(X_train, y_train)\n",
        "\n",
        "y_pred = rfc.predict(X_test)"
      ]
    },
    {
      "cell_type": "code",
      "execution_count": null,
      "id": "ced084c1-5aca-4269-b8d4-48f9d97bdf96",
      "metadata": {
        "id": "ced084c1-5aca-4269-b8d4-48f9d97bdf96"
      },
      "outputs": [],
      "source": [
        "accuracy_rfc = metrics.accuracy_score(y_test, y_pred)\n",
        "f1_rfc = metrics.f1_score(y_test, y_pred)"
      ]
    },
    {
      "cell_type": "code",
      "execution_count": null,
      "id": "32541f49-b67f-4673-9422-5b068ab3d9c3",
      "metadata": {
        "id": "32541f49-b67f-4673-9422-5b068ab3d9c3"
      },
      "outputs": [],
      "source": [
        "#Random Forest"
      ]
    },
    {
      "cell_type": "code",
      "execution_count": null,
      "id": "0f78fb1f-6e0d-4c05-a83e-a4973999ec5a",
      "metadata": {
        "id": "0f78fb1f-6e0d-4c05-a83e-a4973999ec5a",
        "outputId": "852ccb1f-cefb-4cd5-fa94-f55dfd1d8721"
      },
      "outputs": [
        {
          "data": {
            "image/png": "[encoded data removed]",
            "text/plain": [
              "<Figure size 432x288 with 1 Axes>"
            ]
          },
          "metadata": {
            "needs_background": "light"
          },
          "output_type": "display_data"
        }
      ],
      "source": [
        "labels = ['accuracy', 'f1']\n",
        "\n",
        "lr_list = [accuracy_lr, f1_lr]\n",
        "rfc_list = [accuracy_rfc, f1_rfc]\n",
        "\n",
        "x = np.arange(len(labels))\n",
        "width = 0.50\n",
        "\n",
        "fig, ax = plt.subplots()\n",
        "rects1 = ax.bar(x - width/2, lr_list, width, label='Linear Regression')\n",
        "rects2 = ax.bar(x + width/2, rfc_list, width, label='Random Forest')\n",
        "\n",
        "ax.set_ylabel('Score')\n",
        "ax.set_title('Accuracy / F1 by Classifier')\n",
        "ax.set_xticks(x, labels)\n",
        "ax.legend()\n",
        "\n",
        "ax.bar_label(rects1, padding=3)\n",
        "ax.bar_label(rects2, padding=3)\n",
        "\n",
        "fig.tight_layout()\n",
        "\n",
        "plt.show()"
      ]
    }
  ],
  "metadata": {
    "environment": {
      "kernel": "python3",
      "name": "common-cpu.m87",
      "type": "gcloud",
      "uri": "gcr.io/deeplearning-platform-release/base-cpu:m87"
    },
    "kernelspec": {
      "display_name": "Python 3",
      "language": "python",
      "name": "python3"
    },
    "language_info": {
      "codemirror_mode": {
        "name": "ipython",
        "version": 3
      },
      "file_extension": ".py",
      "mimetype": "text/x-python",
      "name": "python",
      "nbconvert_exporter": "python",
      "pygments_lexer": "ipython3",
      "version": "3.7.12"
    },
    "colab": {
      "name": "Fire Prediction Data Analysis.ipynb",
      "provenance": []
    }
  },
  "nbformat": 4,
  "nbformat_minor": 5
}